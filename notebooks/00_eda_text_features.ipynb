{
 "cells": [
  {
   "cell_type": "code",
   "execution_count": null,
   "id": "b46239a8",
   "metadata": {},
   "outputs": [],
   "source": [
    "%pip install pymorphy3\n",
    "%pip install nltk\n",
    "%pip install emoji\n",
    "%pip install razdel\n",
    "%pip install pathos\n",
    "%pip install gensim\n",
    "%pip install numpy\n",
    "# если будут проблемы с библиотеками для векторизациии\n",
    "# %pip uninstall numpy -y\n",
    "# %pip install numpy==1.26.0 --force-reinstall"
   ]
  },
  {
   "cell_type": "code",
   "execution_count": 1,
   "id": "3194ad69",
   "metadata": {},
   "outputs": [],
   "source": [
    "import pandas as pd\n",
    "import json\n",
    "import re\n",
    "import nltk\n",
    "from nltk.corpus import stopwords\n",
    "import pymorphy3\n",
    "import emoji\n",
    "from razdel import tokenize\n",
    "from tqdm.auto import tqdm"
   ]
  },
  {
   "cell_type": "code",
   "execution_count": 2,
   "id": "a8d9d21d",
   "metadata": {},
   "outputs": [],
   "source": [
    "df = pd.read_parquet(\"../data/train_part_0003.snappy.parquet\", engine=\"pyarrow\")"
   ]
  },
  {
   "cell_type": "code",
   "execution_count": 3,
   "id": "4595496e",
   "metadata": {},
   "outputs": [
    {
     "name": "stdout",
     "output_type": "stream",
     "text": [
      "Размер: (500000, 27)\n",
      "\n",
      "<class 'pandas.core.frame.DataFrame'>\n",
      "Index: 500000 entries, 1000000 to 1499999\n",
      "Data columns (total 27 columns):\n",
      " #   Column                 Non-Null Count   Dtype  \n",
      "---  ------                 --------------   -----  \n",
      " 0   base_item_id           500000 non-null  object \n",
      " 1   cand_item_id           500000 non-null  object \n",
      " 2   group_id               500000 non-null  int64  \n",
      " 3   action_date            500000 non-null  object \n",
      " 4   base_title             500000 non-null  object \n",
      " 5   cand_title             500000 non-null  object \n",
      " 6   base_description       500000 non-null  object \n",
      " 7   cand_description       500000 non-null  object \n",
      " 8   base_category_name     499997 non-null  object \n",
      " 9   cand_category_name     499999 non-null  object \n",
      " 10  base_subcategory_name  499997 non-null  object \n",
      " 11  cand_subcategory_name  499999 non-null  object \n",
      " 12  base_param1            480170 non-null  object \n",
      " 13  cand_param1            479939 non-null  object \n",
      " 14  base_param2            358430 non-null  object \n",
      " 15  cand_param2            357617 non-null  object \n",
      " 16  base_price             500000 non-null  int64  \n",
      " 17  cand_price             500000 non-null  int64  \n",
      " 18  base_json_params       500000 non-null  object \n",
      " 19  cand_json_params       500000 non-null  object \n",
      " 20  base_count_images      490220 non-null  float64\n",
      " 21  cand_count_images      490671 non-null  float64\n",
      " 22  base_title_image       500000 non-null  object \n",
      " 23  cand_title_image       500000 non-null  object \n",
      " 24  is_same_location       500000 non-null  bool   \n",
      " 25  is_same_region         500000 non-null  bool   \n",
      " 26  is_double              500000 non-null  int64  \n",
      "dtypes: bool(2), float64(2), int64(4), object(19)\n",
      "memory usage: 100.1+ MB\n",
      "None\n"
     ]
    }
   ],
   "source": [
    "print(f\"Размер: {df.shape}\\n\")  \n",
    "\n",
    "print(df.info())"
   ]
  },
  {
   "cell_type": "code",
   "execution_count": 4,
   "id": "4f1c881f",
   "metadata": {},
   "outputs": [
    {
     "name": "stdout",
     "output_type": "stream",
     "text": [
      "is_double\n",
      "0    0.941694\n",
      "1    0.058306\n",
      "Name: proportion, dtype: float64\n"
     ]
    }
   ],
   "source": [
    "print(df[\"is_double\"].value_counts(normalize=True))"
   ]
  },
  {
   "cell_type": "code",
   "execution_count": 5,
   "id": "5921ad2c",
   "metadata": {},
   "outputs": [
    {
     "name": "stdout",
     "output_type": "stream",
     "text": [
      "\n",
      "--- base_category_name ---\n",
      "base_category_name\n",
      "Для дома и дачи                  122603\n",
      "Личные вещи                      120921\n",
      "Транспорт                         78589\n",
      "Готовый бизнес и оборудование     61180\n",
      "Электроника                       57462\n",
      "Хобби и отдых                     46689\n",
      "Животные                          12553\n",
      "None                                  3\n",
      "Name: count, dtype: int64\n",
      "\n",
      "--- cand_category_name ---\n",
      "cand_category_name\n",
      "Для дома и дачи                  122606\n",
      "Личные вещи                      120920\n",
      "Транспорт                         78589\n",
      "Готовый бизнес и оборудование     61179\n",
      "Электроника                       57463\n",
      "Хобби и отдых                     46689\n",
      "Животные                          12553\n",
      "None                                  1\n",
      "Name: count, dtype: int64\n",
      "\n",
      "--- base_subcategory_name ---\n",
      "base_subcategory_name\n",
      "Запчасти и аксессуары          78589\n",
      "Ремонт и строительство         64133\n",
      "Одежда, обувь, аксессуары      61494\n",
      "Оборудование для бизнеса       60778\n",
      "Мебель и интерьер              41550\n",
      "Детская одежда и обувь         33528\n",
      "Телефоны                       20496\n",
      "Коллекционирование             19973\n",
      "Аудио и видео                  12513\n",
      "Товары для детей и игрушки     11071\n",
      "Книги и журналы                10481\n",
      "Товары для компьютера           9416\n",
      "Спорт и отдых                   9083\n",
      "Красота и здоровье              7980\n",
      "Часы и украшения                6848\n",
      "Игры, приставки и программы     5733\n",
      "Посуда и товары для кухни       5461\n",
      "Растения                        5151\n",
      "Бытовая техника                 5151\n",
      "Собаки                          3707\n",
      "Name: count, dtype: int64\n",
      "\n",
      "--- cand_subcategory_name ---\n",
      "cand_subcategory_name\n",
      "Запчасти и аксессуары          78589\n",
      "Ремонт и строительство         64135\n",
      "Одежда, обувь, аксессуары      61499\n",
      "Оборудование для бизнеса       60777\n",
      "Мебель и интерьер              41551\n",
      "Детская одежда и обувь         33523\n",
      "Телефоны                       20496\n",
      "Коллекционирование             19972\n",
      "Аудио и видео                  12513\n",
      "Товары для детей и игрушки     11071\n",
      "Книги и журналы                10481\n",
      "Товары для компьютера           9415\n",
      "Спорт и отдых                   9083\n",
      "Красота и здоровье              7979\n",
      "Часы и украшения                6848\n",
      "Игры, приставки и программы     5733\n",
      "Посуда и товары для кухни       5461\n",
      "Растения                        5151\n",
      "Бытовая техника                 5151\n",
      "Собаки                          3707\n",
      "Name: count, dtype: int64\n",
      "\n",
      "--- base_param1 ---\n",
      "base_param1\n",
      "Запчасти                    58521\n",
      "Стройматериалы              39144\n",
      "Женская одежда              28949\n",
      "Промышленное                26164\n",
      "Для девочек                 19951\n",
      "None                        19830\n",
      "Другое                      17002\n",
      "Аксессуары                  16783\n",
      "Мобильные телефоны          14138\n",
      "Для мальчиков               13577\n",
      "Мужская одежда              12398\n",
      "Торговое                    12206\n",
      "Кровати, диваны и кресла    11260\n",
      "Инструменты                  8610\n",
      "Шкафы, комоды и стеллажи     8500\n",
      "Книги                        8220\n",
      "Игрушки                      7181\n",
      "Пищевое                      7136\n",
      "Масла и автохимия            6791\n",
      "Женская обувь                6709\n",
      "Name: count, dtype: int64\n",
      "\n",
      "--- cand_param1 ---\n",
      "cand_param1\n",
      "Запчасти                    64142\n",
      "Стройматериалы              39177\n",
      "Женская одежда              28950\n",
      "Промышленное                26111\n",
      "None                        20061\n",
      "Для девочек                 19945\n",
      "Другое                      16999\n",
      "Аксессуары                  16247\n",
      "Мобильные телефоны          13898\n",
      "Для мальчиков               13578\n",
      "Мужская одежда              12398\n",
      "Торговое                    12200\n",
      "Кровати, диваны и кресла    11310\n",
      "Шкафы, комоды и стеллажи     8438\n",
      "Книги                        8221\n",
      "Инструменты                  7931\n",
      "Пищевое                      7226\n",
      "Игрушки                      7181\n",
      "Женская обувь                6716\n",
      "Мужская обувь                5385\n",
      "Name: count, dtype: int64\n",
      "\n",
      "--- base_param2 ---\n",
      "base_param2\n",
      "None                 141570\n",
      "Для автомобилей       54490\n",
      "Другое                17224\n",
      "Верхняя одежда        14547\n",
      "Обувь                  9721\n",
      "Электрическое          7129\n",
      "Платья                 6963\n",
      "Кофты и футболки       5205\n",
      "Кровати                5120\n",
      "Брюки                  5030\n",
      "Мебель                 4955\n",
      "Металлопрокат          4580\n",
      "Отделка                4569\n",
      "Шкафы и буфеты         4372\n",
      "Моторные масла         4370\n",
      "Пиломатериалы          4221\n",
      "Кроссовки              4144\n",
      "Станки                 3879\n",
      "Пиджаки и костюмы      3862\n",
      "Платья и юбки          3527\n",
      "Name: count, dtype: int64\n",
      "\n",
      "--- cand_param2 ---\n",
      "cand_param2\n",
      "None                            142383\n",
      "Для автомобилей                  59707\n",
      "Другое                           17121\n",
      "Верхняя одежда                   13318\n",
      "Обувь                            12768\n",
      "Электрическое                     7241\n",
      "Платья                            7178\n",
      "Кофты и футболки                  5409\n",
      "Кровати                           5226\n",
      "Мебель                            4913\n",
      "Отделка                           4553\n",
      "Брюки                             4538\n",
      "Металлопрокат                     4518\n",
      "Шкафы и буфеты                    4357\n",
      "Кроссовки                         4257\n",
      "Пиломатериалы                     4182\n",
      "Станки                            3859\n",
      "Для грузовиков и спецтехники      3755\n",
      "Тепловое                          3504\n",
      "Строительство стен                3439\n",
      "Name: count, dtype: int64\n"
     ]
    }
   ],
   "source": [
    "categorical_columns = [\n",
    "    'base_category_name', 'cand_category_name',\n",
    "    'base_subcategory_name', 'cand_subcategory_name',\n",
    "    'base_param1', 'cand_param1',\n",
    "    'base_param2', 'cand_param2'\n",
    "]\n",
    "\n",
    "for col in categorical_columns:\n",
    "    print(f\"\\n--- {col} ---\")\n",
    "    print(df[col].value_counts(dropna=False).head(20))  # Топ-20 значений (+ пропуски)"
   ]
  },
  {
   "cell_type": "code",
   "execution_count": 6,
   "id": "2f718f9b",
   "metadata": {},
   "outputs": [
    {
     "name": "stdout",
     "output_type": "stream",
     "text": [
      "\n",
      "--- Примеры из base_title ---\n",
      "['iPhone 11, 256 ГБ' 'iPhone 11, 256 ГБ' 'iPhone 11, 256 ГБ'\n",
      " 'Пpеподобный Ефpем Сиpин c чacтичкой мощей'\n",
      " 'Пpеподобный Ефpем Сиpин c чacтичкой мощей']\n",
      "\n",
      "--- Примеры из cand_title ---\n",
      "['iPhone 14 Pro Max, 256 ГБ' 'iPhone 14 Pro Max, 128 ГБ'\n",
      " 'iPhone 11, 128 ГБ' 'Св. Блaженнaя Мaтpонa Моcковcкaя c чacтичкой мощей'\n",
      " 'Святитель Питиpим Тaмбовcкий c чacтичкой мощей']\n",
      "\n",
      "--- Примеры из base_description ---\n",
      "['без pемонтa оpигинaл \\n\\naкб 77\\n\\nеcть цapaпины нa экpaне и cзaди коpпуca'\n",
      " 'без pемонтa оpигинaл \\n\\naкб 77\\n\\nеcть цapaпины нa экpaне и cзaди коpпуca'\n",
      " 'без pемонтa оpигинaл \\n\\naкб 77\\n\\nеcть цapaпины нa экpaне и cзaди коpпуca'\n",
      " 'Совpеменнaя иконa пpеподобного Ефpемa Сиpинa c чacтичкой мощей. Рaзмеp: 30/24/2 cм.  Смотpите мой пpофиль, еcть много pедких cвятынь, cпpaшивaйте, не вcе выcтaвлено нa пpодaжу . Реaльному покупaтелю тоpг.'\n",
      " 'Совpеменнaя иконa пpеподобного Ефpемa Сиpинa c чacтичкой мощей. Рaзмеp: 30/24/2 cм.  Смотpите мой пpофиль, еcть много pедких cвятынь, cпpaшивaйте, не вcе выcтaвлено нa пpодaжу . Реaльному покупaтелю тоpг.']\n",
      "\n",
      "--- Примеры из cand_description ---\n",
      "['в идеaльном cоcтоянии без дефектов \\n\\naкб-89\\n\\nбез pемонтa'\n",
      " 'Без pемонтa\\n\\nв идеaльном cоcтоянии без кaких либо цapaпин и дефектов \\n\\naкб-88'\n",
      " 'без pемонтa\\n\\nВ хоpошем paбочем cоcтоянии\\n\\nпо ободку незнaчительные cколы \\n\\nнaличие уточняйте!'\n",
      " 'Святaя блaженнaя Мaтpонa Моcковcкaя c чacтичкой мощей. Рaзмеp:28/21/2,5 cм. Смотpите мой пpофиль, еcть много pедких cвятынь, не вcе выcтaвлено нa пpодaжу.'\n",
      " 'Пиcaнaя нa холcте иконa cвятителя Питиpимa Тaмбовcкого Чудотвоpцa c чacтичкой мощей. Пpедположительно 20-й век. Рaзмеp:32/28/4,5 cм. Смотpите мой пpофиль, еcть много pедких cвятынь, cпpaшивaйте, не вcе выcтaвлено нa пpодaжу.']\n"
     ]
    }
   ],
   "source": [
    "text_columns = ['base_title', 'cand_title', 'base_description', 'cand_description']\n",
    "\n",
    "for col in text_columns:\n",
    "    print(f\"\\n--- Примеры из {col} ---\")\n",
    "    print(df[col].head(5).values) "
   ]
  },
  {
   "cell_type": "code",
   "execution_count": 7,
   "id": "1c813b67",
   "metadata": {},
   "outputs": [
    {
     "name": "stdout",
     "output_type": "stream",
     "text": [
      "\n",
      "--- Пример base_json_params ---\n",
      "{'143': 623, '2822': 20019, '110064': [17778857], '110395': 431242, '110615': 458968, '110616': 458743, '110617': 468690, '110618': 469735, '110680': 458500, '110691': 469981, '112690': 757892, '112691': 757884, '121588': 2850687, '148128': 3236960, '148129': 3236965, '148849': 77, '159501': 0}\n"
     ]
    }
   ],
   "source": [
    "sample_json = df['base_json_params'].iloc[0]\n",
    "\n",
    "try:\n",
    "    parsed_json = json.loads(sample_json)\n",
    "    print(\"\\n--- Пример base_json_params ---\")\n",
    "    print(parsed_json)\n",
    "except:\n",
    "    print(\"Не удалось распарсить JSON. Возможно, данные в другом формате.\")"
   ]
  },
  {
   "cell_type": "markdown",
   "id": "e12df39b",
   "metadata": {},
   "source": [
    "Числовые ключи (178, 179, 2756 и т. д.), скорее всего, соответствуют ID атрибутов товара (например: бренд, цвет, размер).\n",
    "\n",
    "Можно проверить, сколько параметров совпадает у пар объявлений."
   ]
  },
  {
   "cell_type": "code",
   "execution_count": 8,
   "id": "01c61ec3",
   "metadata": {},
   "outputs": [
    {
     "name": "stdout",
     "output_type": "stream",
     "text": [
      "\n",
      "Среднее количество общих параметров:\n",
      "7.890174\n",
      "\n",
      "Среднее количество совпадающих значений:\n",
      "6.176622\n"
     ]
    }
   ],
   "source": [
    "def compare_json_params(row):\n",
    "    try:\n",
    "        base_params = json.loads(row['base_json_params'])\n",
    "        cand_params = json.loads(row['cand_json_params'])\n",
    "        \n",
    "        # Совпадающие ключи и значения\n",
    "        common_keys = set(base_params.keys()) & set(cand_params.keys())\n",
    "        same_values = sum(1 for k in common_keys if base_params[k] == cand_params[k])\n",
    "        \n",
    "        return {\n",
    "            'common_params_count': len(common_keys),\n",
    "            'same_values_count': same_values\n",
    "        }\n",
    "    except:\n",
    "        return {'common_params_count': 0, 'same_values_count': 0}\n",
    "\n",
    "comparison_results = df.apply(compare_json_params, axis=1, result_type='expand')\n",
    "df = pd.concat([df, comparison_results], axis=1)\n",
    "\n",
    "print(\"\\nСреднее количество общих параметров:\")\n",
    "print(df['common_params_count'].mean())\n",
    "\n",
    "print(\"\\nСреднее количество совпадающих значений:\")\n",
    "print(df['same_values_count'].mean())"
   ]
  },
  {
   "cell_type": "code",
   "execution_count": 9,
   "id": "8e0e8f7b",
   "metadata": {},
   "outputs": [
    {
     "name": "stdout",
     "output_type": "stream",
     "text": [
      "\n",
      "--- Пример base_title_image ---\n",
      "fc7a6be7f687db1d16b6629146cbf654a36db17de80e708e616f8fdc9f2e135a\n",
      "\n",
      "--- Пример cand_title_image ---\n",
      "e207f22818caf76d874e49ac810a080edecff0dca2d30c7036c982667d1ec385\n"
     ]
    }
   ],
   "source": [
    "print(\"\\n--- Пример base_title_image ---\")\n",
    "print(df['base_title_image'].iloc[0])\n",
    "\n",
    "print(\"\\n--- Пример cand_title_image ---\")\n",
    "print(df['cand_title_image'].iloc[0])"
   ]
  },
  {
   "cell_type": "markdown",
   "id": "9262a1f2",
   "metadata": {},
   "source": [
    "Похоже, что поля `base_title_image` и `cand_title_image` содержат хеш-суммы изображений (скорее всего, SHA-256). Это означает, что:\n",
    "- Изображения уже предобработаны - хранятся не сами пиксели, а их хеши\n",
    "- Сравнение упрощается - можно искать точные совпадения хешей\n",
    "- Разные хеши ≠ разные изображения (но с высокой вероятностью)"
   ]
  },
  {
   "cell_type": "code",
   "execution_count": 10,
   "id": "e750204c",
   "metadata": {},
   "outputs": [
    {
     "name": "stdout",
     "output_type": "stream",
     "text": [
      "Точно одинаковые изображения: 1.15%\n",
      "Процент одинаковых изображений среди дубликатов: 4.20%\n",
      "Уникальных base изображений: 192773\n",
      "Уникальных cand изображений: 479434\n",
      "Уникальных изображений всего: 665349\n"
     ]
    }
   ],
   "source": [
    "# Процент пар с одинаковыми изображениями\n",
    "same_images = (df['base_title_image'] == df['cand_title_image']).mean()\n",
    "print(f\"Точно одинаковые изображения: {same_images*100:.2f}%\")\n",
    "\n",
    "# Процент пар с одинаковыми изображениями среди дубликатов\n",
    "same_images_dup = (df.loc[df['is_double'] == True, 'base_title_image'] == \n",
    "                  df.loc[df['is_double'] == True, 'cand_title_image']).mean()\n",
    "print(f\"Процент одинаковых изображений среди дубликатов: {same_images_dup*100:.2f}%\")\n",
    "\n",
    "\n",
    "print(f\"Уникальных base изображений: {df['base_title_image'].nunique()}\")\n",
    "print(f\"Уникальных cand изображений: {df['cand_title_image'].nunique()}\")\n",
    "\n",
    "unique_images = pd.concat([df['base_title_image'], df['cand_title_image']]).nunique()\n",
    "print(f\"Уникальных изображений всего: {unique_images}\")"
   ]
  },
  {
   "cell_type": "markdown",
   "id": "5ca47179",
   "metadata": {},
   "source": [
    "Похоже, что дубликаты в основном: либо имеют разные хеши одной и той же картинки, либо снимают тот же товар под другим углом, либо исходят от разных продавцов"
   ]
  },
  {
   "cell_type": "code",
   "execution_count": 11,
   "id": "bbdbc588",
   "metadata": {},
   "outputs": [
    {
     "name": "stdout",
     "output_type": "stream",
     "text": [
      "\n",
      "--- Сравнение процентов ---\n",
      "is_same_location:\n",
      "\n",
      "Не дубликаты: is_same_location\n",
      "True     98.233396\n",
      "False     1.766604\n",
      "Name: proportion, dtype: float64\n",
      "\n",
      "Среди дубликатов: is_same_location\n",
      "True     94.817\n",
      "False     5.183\n",
      "Name: proportion, dtype: float64\n",
      "\n",
      "--- Сравнение процентов ---\n",
      "is_same_region:\n",
      "\n",
      "Не дубликаты: is_same_region\n",
      "True     98.815751\n",
      "False     1.184249\n",
      "Name: proportion, dtype: float64\n",
      "\n",
      "Среди дубликатов: is_same_region\n",
      "True     95.938668\n",
      "False     4.061332\n",
      "Name: proportion, dtype: float64\n"
     ]
    }
   ],
   "source": [
    "is_same_location_nondup = (df.loc[df['is_double'] == False, 'is_same_location']).value_counts(normalize=True) * 100\n",
    "is_same_region_nondup = (df.loc[df['is_double'] == False, 'is_same_region']).value_counts(normalize=True) * 100\n",
    "\n",
    "is_same_location_duplicates = (df.loc[df['is_double'] == True, 'is_same_location']).value_counts(normalize=True) * 100\n",
    "is_same_region_duplicates = (df.loc[df['is_double'] == True, 'is_same_region']).value_counts(normalize=True) * 100\n",
    "\n",
    "print(\"\\n--- Сравнение процентов ---\")\n",
    "print(\"is_same_location:\\n\")\n",
    "print(\"Не дубликаты:\", is_same_location_nondup)\n",
    "print(\"\\nСреди дубликатов:\", is_same_location_duplicates)\n",
    "\n",
    "print(\"\\n--- Сравнение процентов ---\")\n",
    "print(\"is_same_region:\\n\")\n",
    "print(\"Не дубликаты:\", is_same_region_nondup)\n",
    "print(\"\\nСреди дубликатов:\", is_same_region_duplicates)"
   ]
  },
  {
   "cell_type": "code",
   "execution_count": 12,
   "id": "f853e11a",
   "metadata": {},
   "outputs": [
    {
     "data": {
      "text/html": [
       "<div>\n",
       "<style scoped>\n",
       "    .dataframe tbody tr th:only-of-type {\n",
       "        vertical-align: middle;\n",
       "    }\n",
       "\n",
       "    .dataframe tbody tr th {\n",
       "        vertical-align: top;\n",
       "    }\n",
       "\n",
       "    .dataframe thead th {\n",
       "        text-align: right;\n",
       "    }\n",
       "</style>\n",
       "<table border=\"1\" class=\"dataframe\">\n",
       "  <thead>\n",
       "    <tr style=\"text-align: right;\">\n",
       "      <th></th>\n",
       "      <th>mean</th>\n",
       "      <th>50%</th>\n",
       "      <th>min</th>\n",
       "      <th>max</th>\n",
       "    </tr>\n",
       "  </thead>\n",
       "  <tbody>\n",
       "    <tr>\n",
       "      <th>base_title</th>\n",
       "      <td>31.2</td>\n",
       "      <td>31.0</td>\n",
       "      <td>1.0</td>\n",
       "      <td>100.0</td>\n",
       "    </tr>\n",
       "    <tr>\n",
       "      <th>cand_title</th>\n",
       "      <td>31.2</td>\n",
       "      <td>31.0</td>\n",
       "      <td>1.0</td>\n",
       "      <td>100.0</td>\n",
       "    </tr>\n",
       "    <tr>\n",
       "      <th>base_desc</th>\n",
       "      <td>997.5</td>\n",
       "      <td>795.0</td>\n",
       "      <td>1.0</td>\n",
       "      <td>7933.0</td>\n",
       "    </tr>\n",
       "    <tr>\n",
       "      <th>cand_desc</th>\n",
       "      <td>988.4</td>\n",
       "      <td>785.0</td>\n",
       "      <td>1.0</td>\n",
       "      <td>8289.0</td>\n",
       "    </tr>\n",
       "  </tbody>\n",
       "</table>\n",
       "</div>"
      ],
      "text/plain": [
       "             mean    50%  min     max\n",
       "base_title   31.2   31.0  1.0   100.0\n",
       "cand_title   31.2   31.0  1.0   100.0\n",
       "base_desc   997.5  795.0  1.0  7933.0\n",
       "cand_desc   988.4  785.0  1.0  8289.0"
      ]
     },
     "execution_count": 12,
     "metadata": {},
     "output_type": "execute_result"
    }
   ],
   "source": [
    "import pandas as pd\n",
    "\n",
    "# Анализ длины текстов для каждой колонки\n",
    "(pd.DataFrame({\n",
    "    'base_title': df['base_title'].str.len().describe(),\n",
    "    'cand_title': df['cand_title'].str.len().describe(),\n",
    "    'base_desc': df['base_description'].str.len().describe(),\n",
    "    'cand_desc': df['cand_description'].str.len().describe()\n",
    "}).loc[['mean', '50%', 'min', 'max']].round(1).T)"
   ]
  },
  {
   "cell_type": "code",
   "execution_count": 13,
   "id": "7d605db3",
   "metadata": {},
   "outputs": [
    {
     "name": "stdout",
     "output_type": "stream",
     "text": [
      "Колличество нулей: 12024\n",
      "Процент нулевых значений: 0.41\n",
      "Медиана ненулевых значений: 1680.0\n",
      "Максимальная разница цен: 34000001\n"
     ]
    }
   ],
   "source": [
    "duplicates = df[df['is_double'] == 1]\n",
    "\n",
    "# Рассчитываем разницу цен\n",
    "diff = (duplicates['base_price'] - duplicates['cand_price']).abs()\n",
    "\n",
    "print(f\"Колличество нулей: {diff.eq(0).sum()}\")\n",
    "print(f\"Процент нулевых значений: {round(diff.eq(0).sum()/len(diff), 2)}\")\n",
    "print(f\"Медиана ненулевых значений: {diff[diff > 0].median()}\")\n",
    "print(f\"Максимальная разница цен: {diff.max()}\")"
   ]
  },
  {
   "cell_type": "code",
   "execution_count": 14,
   "id": "e21a1ccb",
   "metadata": {},
   "outputs": [
    {
     "name": "stdout",
     "output_type": "stream",
     "text": [
      "\n",
      "Пример дубликата #1083124:\n",
      "Название: Штaны stone island/Штaны Кapго\n",
      "base: 👉 Штaны кapго Stone island\n",
      "\n",
      "❗ Лучшее кaчеcтво нa pынке, не путaть c дешевыми aнaлогaми ❗\n",
      "\n",
      "👉 Личных в...\n",
      "\n",
      "cand: 👉 Бpюки кapго\n",
      "\n",
      "❗ Лучшее кaчеcтво нa pынке, не путaть c дешевыми aнaлогaми ❗\n",
      "\n",
      "👉 Личных вcтpеч нету ! ...\n",
      "\n",
      "Цены: BASE=3699 vs CAND=2399\n",
      "--------------------------------------------------------------------------------\n",
      "\n",
      "Пример дубликата #1323711:\n",
      "Название: Нacоcнaя cтaнция дc-125 дc-215 битумный нacоc/Битумнaя cтaнция дc-125\n",
      "base: Нacоcнaя cтaнция дc-125 дc-215 битумный нacоc\n",
      "\n",
      "КАЧЕСТВЕННОЕ И НАДЕЖНОЕ ОБОРУДОВАНИЕ С ДОСТАВКОЙ ПО В...\n",
      "\n",
      "cand: в пpодaже битумные cтaнции ДС-125 c двигaтелями 7,5 и 11 кВт\n",
      "\n",
      "Битумные cтaнции в нaличии\n",
      "\n",
      "Стaнция дл...\n",
      "\n",
      "Цены: BASE=-1 vs CAND=189000\n",
      "--------------------------------------------------------------------------------\n",
      "\n",
      "Пример дубликата #1023279:\n",
      "Название: Опaлубкa/Опaлубкa\n",
      "base: Опaлубкa\n",
      "\n",
      "🏗️Стpоительнaя опaлубкa — пpодaжa и apендa по низким ценaм. Вcегдa в нaличии. Гapaнтия кaч...\n",
      "\n",
      "cand: Опaлубкa\n",
      "\n",
      "Аpендa и пpодaжa опaлубки пеpекpытий, cтен и фундaментa для чacтного и монолитного многоэт...\n",
      "\n",
      "Цены: BASE=3547 vs CAND=3517\n",
      "--------------------------------------------------------------------------------\n"
     ]
    }
   ],
   "source": [
    "# Берем 3 случайных дубликата\n",
    "samples = df[df['is_double'] == 1].sample(3)\n",
    "\n",
    "# Выводим в читаемом формате\n",
    "for i, row in samples.iterrows():\n",
    "    print(f\"\\nПример дубликата #{i+1}:\")\n",
    "    print(f\"Название: {row['base_title']}/{row['cand_title']}\")\n",
    "    print(f\"base: {row['base_description'][:100]}...\\n\")  # Обрезаем длинные описания\n",
    "    print(f\"cand: {row['cand_description'][:100]}...\")\n",
    "    print(f\"\\nЦены: BASE={row['base_price']} vs CAND={row['cand_price']}\")\n",
    "    print(\"-\"*80)"
   ]
  },
  {
   "cell_type": "code",
   "execution_count": 15,
   "id": "bd00283b",
   "metadata": {},
   "outputs": [
    {
     "data": {
      "image/png": "[encoded data removed]",
      "text/plain": [
       "<Figure size 1000x600 with 1 Axes>"
      ]
     },
     "metadata": {},
     "output_type": "display_data"
    }
   ],
   "source": [
    "import pandas as pd\n",
    "import matplotlib.pyplot as plt\n",
    "import seaborn as sns\n",
    "\n",
    "# Создаем матрицу признаков\n",
    "features = pd.DataFrame({\n",
    "    'price_diff': abs(df['base_price'] - df['cand_price']),\n",
    "    'images_diff': abs(df['base_count_images'] - df['cand_count_images']),\n",
    "    'same_category': (df['base_category_name'] == df['cand_category_name']).astype(int),\n",
    "    'same_subcategory': (df['base_subcategory_name'] == df['cand_subcategory_name']).astype(int),\n",
    "    'same_param1': (df['base_param1'] == df['cand_param1']).astype(int),\n",
    "    'same_param2': (df['base_param2'] == df['cand_param2']).astype(int),\n",
    "    'same_location': df['is_same_location'].astype(int),\n",
    "    'same_region': df['is_same_region'].astype(int),\n",
    "    'is_double': df['is_double']  # добавляем целевую переменную\n",
    "})\n",
    "\n",
    "# Вычисляем корреляции\n",
    "corr_matrix = features.corr()['is_double'].drop('is_double').sort_values(ascending=False)\n",
    "\n",
    "# Визуализация\n",
    "plt.figure(figsize=(10, 6))\n",
    "sns.barplot(x=corr_matrix.values, y=corr_matrix.index)\n",
    "plt.title('Корреляция признаков с наличием дубликата', pad=20)\n",
    "plt.xlabel('Коэффициент корреляции')\n",
    "plt.ylabel('Признаки')\n",
    "plt.axvline(0, color='black', linestyle='--')\n",
    "plt.grid(axis='x', alpha=0.3)\n",
    "plt.tight_layout()\n",
    "plt.show()"
   ]
  },
  {
   "cell_type": "code",
   "execution_count": 16,
   "id": "e1bbfe89",
   "metadata": {},
   "outputs": [
    {
     "name": "stdout",
     "output_type": "stream",
     "text": [
      "\n",
      "Информация о пропущенных значениях:\n",
      "                       Количество пропусков Тип данных\n",
      "base_category_name                        3     object\n",
      "cand_category_name                        1     object\n",
      "base_subcategory_name                     3     object\n",
      "cand_subcategory_name                     1     object\n",
      "base_param1                           19830     object\n",
      "cand_param1                           20061     object\n",
      "base_param2                          141570     object\n",
      "cand_param2                          142383     object\n",
      "base_count_images                      9780    float64\n",
      "cand_count_images                      9329    float64\n"
     ]
    }
   ],
   "source": [
    "missing_values = df.isnull().sum()\n",
    "missing_info = pd.DataFrame({\n",
    "    'Количество пропусков': missing_values[missing_values > 0],\n",
    "    'Тип данных': [df[col].dtype for col in missing_values[missing_values > 0].index]\n",
    "})\n",
    "\n",
    "print(\"\\nИнформация о пропущенных значениях:\")\n",
    "print(missing_info)"
   ]
  },
  {
   "cell_type": "markdown",
   "id": "a815fa52",
   "metadata": {},
   "source": [
    "### Предобработка данных"
   ]
  },
  {
   "cell_type": "code",
   "execution_count": 17,
   "id": "226f8e60",
   "metadata": {},
   "outputs": [],
   "source": [
    "# Замена пропущенных значений в числовых столбцах на 0.0\n",
    "numeric_columns = ['base_count_images', 'cand_count_images']\n",
    "df[numeric_columns] = df[numeric_columns].fillna(0.0)\n",
    "\n",
    "# Замена пропущенных значений в строковых столбцах на \" \"\n",
    "object_columns = ['base_category_name', 'base_subcategory_name', \n",
    "                  'base_param1', 'cand_param1', 'base_param2', 'cand_param2', 'cand_category_name', 'cand_subcategory_name']\n",
    "df[object_columns] = df[object_columns].fillna(\" \")"
   ]
  },
  {
   "cell_type": "code",
   "execution_count": 18,
   "id": "04bc3b81",
   "metadata": {},
   "outputs": [
    {
     "name": "stdout",
     "output_type": "stream",
     "text": [
      "Осталось пропусков после очистки:\n",
      "Series([], dtype: int64)\n"
     ]
    }
   ],
   "source": [
    "# Проверяем оставшиеся нулевые значения\n",
    "print(\"Осталось пропусков после очистки:\")\n",
    "print(df.isnull().sum()[df.isnull().sum() > 0])"
   ]
  },
  {
   "cell_type": "markdown",
   "id": "a77f30eb",
   "metadata": {},
   "source": [
    "Столбцы, которые можно удалить:\n",
    "- `action_date`\n",
    "- `group_id`\n",
    "- `base_json_params` и `cand_json_params` (уже есть производные `common_params_count` и `same_values_count`)"
   ]
  },
  {
   "cell_type": "code",
   "execution_count": 19,
   "id": "4d850bb3",
   "metadata": {},
   "outputs": [
    {
     "name": "stdout",
     "output_type": "stream",
     "text": [
      "Осталось столбцов: 25\n",
      "<class 'pandas.core.frame.DataFrame'>\n",
      "Index: 500000 entries, 1000000 to 1499999\n",
      "Data columns (total 25 columns):\n",
      " #   Column                 Non-Null Count   Dtype  \n",
      "---  ------                 --------------   -----  \n",
      " 0   base_item_id           500000 non-null  object \n",
      " 1   cand_item_id           500000 non-null  object \n",
      " 2   base_title             500000 non-null  object \n",
      " 3   cand_title             500000 non-null  object \n",
      " 4   base_description       500000 non-null  object \n",
      " 5   cand_description       500000 non-null  object \n",
      " 6   base_category_name     500000 non-null  object \n",
      " 7   cand_category_name     500000 non-null  object \n",
      " 8   base_subcategory_name  500000 non-null  object \n",
      " 9   cand_subcategory_name  500000 non-null  object \n",
      " 10  base_param1            500000 non-null  object \n",
      " 11  cand_param1            500000 non-null  object \n",
      " 12  base_param2            500000 non-null  object \n",
      " 13  cand_param2            500000 non-null  object \n",
      " 14  base_price             500000 non-null  int64  \n",
      " 15  cand_price             500000 non-null  int64  \n",
      " 16  base_count_images      500000 non-null  float64\n",
      " 17  cand_count_images      500000 non-null  float64\n",
      " 18  base_title_image       500000 non-null  object \n",
      " 19  cand_title_image       500000 non-null  object \n",
      " 20  is_same_location       500000 non-null  bool   \n",
      " 21  is_same_region         500000 non-null  bool   \n",
      " 22  is_double              500000 non-null  int64  \n",
      " 23  common_params_count    500000 non-null  int64  \n",
      " 24  same_values_count      500000 non-null  int64  \n",
      "dtypes: bool(2), float64(2), int64(5), object(16)\n",
      "memory usage: 92.5+ MB\n",
      "None\n"
     ]
    }
   ],
   "source": [
    "columns_to_drop = ['action_date', 'group_id', 'base_json_params', 'cand_json_params']\n",
    "df_clean = df.drop(columns=columns_to_drop)\n",
    "\n",
    "print(f\"Осталось столбцов: {len(df_clean.columns)}\")\n",
    "print(df_clean.info())"
   ]
  },
  {
   "cell_type": "markdown",
   "id": "b7a5c5e7",
   "metadata": {},
   "source": [
    "## Tokenization"
   ]
  },
  {
   "cell_type": "code",
   "execution_count": 20,
   "id": "423bda98",
   "metadata": {},
   "outputs": [
    {
     "name": "stderr",
     "output_type": "stream",
     "text": [
      "[nltk_data] Downloading package stopwords to\n",
      "[nltk_data]     C:\\Users\\User\\AppData\\Roaming\\nltk_data...\n",
      "[nltk_data]   Package stopwords is already up-to-date!\n",
      "[nltk_data] Downloading package punkt_tab to\n",
      "[nltk_data]     C:\\Users\\User\\AppData\\Roaming\\nltk_data...\n",
      "[nltk_data]   Package punkt_tab is already up-to-date!\n"
     ]
    }
   ],
   "source": [
    "nltk.download('stopwords')\n",
    "nltk.download('punkt_tab')\n",
    "morph = pymorphy3.MorphAnalyzer()\n",
    "stop_words = set(stopwords.words('russian'))"
   ]
  },
  {
   "cell_type": "code",
   "execution_count": 21,
   "id": "e9192585",
   "metadata": {},
   "outputs": [],
   "source": [
    "SIZE_REGEX = re.compile(r'(\\d+)\\s*(gb|mb|mp|кг|гб|см|мм|дюйм|\"|×|х|ghz)', flags=re.IGNORECASE)\n",
    "QUOTE_REGEX = re.compile(r'(\\d)\\s*[\\\"”]\\s*')\n",
    "PUNCT_REGEX = re.compile(r'(?<!\\w)[\\'\\\".,!?;:](?!\\w)')"
   ]
  },
  {
   "cell_type": "code",
   "execution_count": 22,
   "id": "7c010b21",
   "metadata": {},
   "outputs": [
    {
     "name": "stdout",
     "output_type": "stream",
     "text": [
      "Обработка base_title...\n"
     ]
    },
    {
     "data": {
      "application/vnd.jupyter.widget-view+json": {
       "model_id": "756aa5fc23b745e3a0c13c259a579414",
       "version_major": 2,
       "version_minor": 0
      },
      "text/plain": [
       "  0%|          | 0/500000 [00:00<?, ?it/s]"
      ]
     },
     "metadata": {},
     "output_type": "display_data"
    },
    {
     "name": "stdout",
     "output_type": "stream",
     "text": [
      "Обработка cand_title...\n"
     ]
    },
    {
     "data": {
      "application/vnd.jupyter.widget-view+json": {
       "model_id": "417ff667b06e4494ad6acfee30aca33b",
       "version_major": 2,
       "version_minor": 0
      },
      "text/plain": [
       "  0%|          | 0/500000 [00:00<?, ?it/s]"
      ]
     },
     "metadata": {},
     "output_type": "display_data"
    },
    {
     "name": "stdout",
     "output_type": "stream",
     "text": [
      "Обработка base_description...\n"
     ]
    },
    {
     "data": {
      "application/vnd.jupyter.widget-view+json": {
       "model_id": "2fc49c3cb7fd48de9c3d0e1a62bdcb5d",
       "version_major": 2,
       "version_minor": 0
      },
      "text/plain": [
       "  0%|          | 0/500000 [00:00<?, ?it/s]"
      ]
     },
     "metadata": {},
     "output_type": "display_data"
    },
    {
     "name": "stdout",
     "output_type": "stream",
     "text": [
      "Обработка cand_description...\n"
     ]
    },
    {
     "data": {
      "application/vnd.jupyter.widget-view+json": {
       "model_id": "7888942758fd4ab6bb1a532d21e7e904",
       "version_major": 2,
       "version_minor": 0
      },
      "text/plain": [
       "  0%|          | 0/500000 [00:00<?, ?it/s]"
      ]
     },
     "metadata": {},
     "output_type": "display_data"
    }
   ],
   "source": [
    "tqdm.pandas()\n",
    "\n",
    "def clean_text(text):\n",
    "    if not isinstance(text, str):\n",
    "        return \"\"\n",
    "    \n",
    "    text = emoji.replace_emoji(text, replace='')\n",
    "    text = SIZE_REGEX.sub(r'\\1\\2', text)\n",
    "    text = QUOTE_REGEX.sub(r'\\1\" ', text)\n",
    "    text = PUNCT_REGEX.sub('', text)\n",
    "    text = text.lower()\n",
    "    \n",
    "    tokens = []\n",
    "    for token in tokenize(text):\n",
    "        token = token.text\n",
    "        if (re.match(r'^(\\d+|\\w+\\d+|\\d+\\w+)$', token) or \n",
    "            len(token) > 2 and token not in stop_words):\n",
    "            \n",
    "            if token.isalpha():\n",
    "                token = morph.parse(token)[0].normal_form\n",
    "            tokens.append(token)\n",
    "    \n",
    "    return ' '.join(tokens)\n",
    "\n",
    "for col in ['base_title', 'cand_title', 'base_description', 'cand_description']:\n",
    "    print(f\"Обработка {col}...\")\n",
    "    df[col] = df[col].progress_apply(clean_text)  # Используем progress_apply вместо apply"
   ]
  },
  {
   "cell_type": "code",
   "execution_count": 23,
   "id": "dc9b7a06",
   "metadata": {},
   "outputs": [
    {
     "name": "stdout",
     "output_type": "stream",
     "text": [
      "Датасет сохранён в ../data/cleaned_train_part_0003.snappy.parquet\n"
     ]
    }
   ],
   "source": [
    "df.to_parquet(\n",
    "    '../data/cleaned_train_part_0003.snappy.parquet',\n",
    "    engine='pyarrow',\n",
    "    compression='snappy'\n",
    ")\n",
    "print(\"Датасет сохранён в ../data/cleaned_train_part_0003.snappy.parquet\")"
   ]
  }
 ],
 "metadata": {
  "kernelspec": {
   "display_name": "base",
   "language": "python",
   "name": "python3"
  },
  "language_info": {
   "codemirror_mode": {
    "name": "ipython",
    "version": 3
   },
   "file_extension": ".py",
   "mimetype": "text/x-python",
   "name": "python",
   "nbconvert_exporter": "python",
   "pygments_lexer": "ipython3",
   "version": "3.12.7"
  }
 },
 "nbformat": 4,
 "nbformat_minor": 5
}
