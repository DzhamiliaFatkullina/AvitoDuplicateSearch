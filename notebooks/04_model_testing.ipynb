{
 "cells": [
  {
   "cell_type": "code",
   "execution_count": 1,
   "id": "769b6366",
   "metadata": {},
   "outputs": [],
   "source": [
    "import pandas as pd\n",
    "from sklearn.preprocessing import StandardScaler\n",
    "from sklearn.calibration import LabelEncoder\n",
    "from sklearn.model_selection import train_test_split"
   ]
  },
  {
   "cell_type": "code",
   "execution_count": 69,
   "id": "8f36d505",
   "metadata": {},
   "outputs": [],
   "source": [
    "df = pd.read_parquet(\"../data/test_final_dataset_2.snappy.parquet\", engine=\"fastparquet\")"
   ]
  },
  {
   "cell_type": "code",
   "execution_count": 70,
   "id": "f81bb900",
   "metadata": {},
   "outputs": [],
   "source": [
    "df['image_similarity'] = df['image_similarity'].fillna(0)\n",
    "\n",
    "df[['is_same_location', 'is_same_region']] = df[['is_same_location', 'is_same_region']].astype(int)"
   ]
  },
  {
   "cell_type": "code",
   "execution_count": 71,
   "id": "c6768649",
   "metadata": {},
   "outputs": [],
   "source": [
    "# Совпадение категорий и параметров\n",
    "df['same_category'] = (df['base_category_name'] == df['cand_category_name']).astype(int)\n",
    "df['same_subcategory'] = (df['base_subcategory_name'] == df['cand_subcategory_name']).astype(int)"
   ]
  },
  {
   "cell_type": "code",
   "execution_count": 72,
   "id": "0614934e",
   "metadata": {},
   "outputs": [],
   "source": [
    "df['price_diff_pct'] = 2 * abs(df['base_price'] - df['cand_price']) / (df['base_price'] + df['cand_price'] + 1e-6)\n",
    "\n",
    "df['images_diff'] = df['base_count_images'] - df['cand_count_images']"
   ]
  },
  {
   "cell_type": "code",
   "execution_count": 73,
   "id": "b4e79a4c",
   "metadata": {},
   "outputs": [],
   "source": [
    "numeric_cols = [\n",
    "    'base_price', \n",
    "    'cand_price',\n",
    "    'price_diff_pct',\n",
    "    'base_count_images',\n",
    "    'cand_count_images',\n",
    "    'images_diff',\n",
    "    'common_params_count',\n",
    "    'same_values_count'\n",
    "]\n",
    "\n",
    "scaler = StandardScaler()\n",
    "df[numeric_cols] = scaler.fit_transform(df[numeric_cols])"
   ]
  },
  {
   "cell_type": "code",
   "execution_count": 74,
   "id": "a793eafa",
   "metadata": {},
   "outputs": [],
   "source": [
    "df['base_param1'] = df['base_param1'].replace('', 'Не указано')\n",
    "df['cand_param1'] = df['cand_param1'].replace('', 'Не указано')\n",
    "df['same_param1'] = (df['base_param1'] == df['cand_param1']).astype(int)\n",
    "le_param1 = LabelEncoder()\n",
    "all_values = pd.concat([df['base_param1'], df['cand_param1']]).unique()\n",
    "le_param1.fit(all_values)\n",
    "\n",
    "df['base_param1_encoded'] = le_param1.transform(df['base_param1'])\n",
    "df['cand_param1_encoded'] = le_param1.transform(df['cand_param1'])\n"
   ]
  },
  {
   "cell_type": "code",
   "execution_count": 75,
   "id": "59a16b91",
   "metadata": {},
   "outputs": [],
   "source": [
    "df['base_param2'] = df['base_param2'].replace('', 'Не указано')\n",
    "df['cand_param2'] = df['cand_param2'].replace('', 'Не указано')\n",
    "df['same_param2'] = (df['base_param2'] == df['cand_param2']).astype(int)\n",
    "le_param2 = LabelEncoder()\n",
    "all_values = pd.concat([df['base_param2'], df['cand_param2']]).unique()\n",
    "le_param2.fit(all_values)\n",
    "\n",
    "df['base_param2_encoded'] = le_param2.transform(df['base_param2'])\n",
    "df['cand_param2_encoded'] = le_param2.transform(df['cand_param2'])"
   ]
  },
  {
   "cell_type": "code",
   "execution_count": 76,
   "id": "05920d12",
   "metadata": {},
   "outputs": [
    {
     "name": "stdout",
     "output_type": "stream",
     "text": [
      "<class 'pandas.core.frame.DataFrame'>\n",
      "Index: 250000 entries, 250000 to 499999\n",
      "Data columns (total 24 columns):\n",
      " #   Column                  Non-Null Count   Dtype  \n",
      "---  ------                  --------------   -----  \n",
      " 0   base_item_id            250000 non-null  object \n",
      " 1   cand_item_id            250000 non-null  object \n",
      " 2   base_price              250000 non-null  float64\n",
      " 3   cand_price              250000 non-null  float64\n",
      " 4   base_count_images       250000 non-null  float64\n",
      " 5   cand_count_images       250000 non-null  float64\n",
      " 6   is_same_location        250000 non-null  int32  \n",
      " 7   is_same_region          250000 non-null  int32  \n",
      " 8   common_params_count     250000 non-null  float64\n",
      " 9   same_values_count       250000 non-null  float64\n",
      " 10  basic_image_similarity  250000 non-null  float64\n",
      " 11  image_similarity        250000 non-null  float64\n",
      " 12  title_similarity        250000 non-null  float64\n",
      " 13  description_similarity  250000 non-null  float64\n",
      " 14  same_category           250000 non-null  int32  \n",
      " 15  same_subcategory        250000 non-null  int32  \n",
      " 16  price_diff_pct          250000 non-null  float64\n",
      " 17  images_diff             250000 non-null  float64\n",
      " 18  same_param1             250000 non-null  int32  \n",
      " 19  base_param1_encoded     250000 non-null  int32  \n",
      " 20  cand_param1_encoded     250000 non-null  int32  \n",
      " 21  same_param2             250000 non-null  int32  \n",
      " 22  base_param2_encoded     250000 non-null  int32  \n",
      " 23  cand_param2_encoded     250000 non-null  int32  \n",
      "dtypes: float64(12), int32(10), object(2)\n",
      "memory usage: 38.1+ MB\n",
      "None\n"
     ]
    }
   ],
   "source": [
    "columns_to_drop = [\n",
    "    'base_title', 'cand_title', 'base_description', 'cand_description',\n",
    "    'base_json_params', 'cand_json_params',\n",
    "    'base_title_image', 'cand_title_image',\n",
    "    'base_category_name', 'cand_category_name',\n",
    "    'base_subcategory_name', 'cand_subcategory_name',\n",
    "    'base_param1', 'cand_param1',\n",
    "    'base_param2', 'cand_param2',\n",
    "]\n",
    "\n",
    "df = df.drop(columns=columns_to_drop)\n",
    "print(df.info())"
   ]
  },
  {
   "cell_type": "code",
   "execution_count": null,
   "id": "ef463fdc",
   "metadata": {},
   "outputs": [
    {
     "name": "stdout",
     "output_type": "stream",
     "text": [
      "Результаты сохранены в submission.csv\n",
      "Всего пар: 250000\n",
      "Средняя вероятность: 0.0488\n"
     ]
    }
   ],
   "source": [
    "import joblib\n",
    "import numpy as np\n",
    "\n",
    "model_assets = joblib.load('../data/models/best_model_assets_2.joblib')\n",
    "models = model_assets['models']\n",
    "calibrator = model_assets['final_calibrator']\n",
    "features = model_assets['features']\n",
    "calibrators = model_assets['calibrators']\n",
    "\n",
    "assert set(features).issubset(set(df.columns)), \"В тестовых данных отсутствуют некоторые фичи\"\n",
    "\n",
    "X_test = df[features]\n",
    "\n",
    "calibrated_probs = []\n",
    "for model, calibrator in zip(models, calibrators):\n",
    "    raw_pred = model.predict(X_test)\n",
    "    calibrated_pred = calibrator.predict(raw_pred)\n",
    "    calibrated_probs.append(calibrated_pred)\n",
    "\n",
    "final_probability = np.mean(calibrated_probs, axis=0)\n",
    "\n",
    "# test_preds = np.mean([model.predict(X_test) for model in models], axis=0)\n",
    "\n",
    "# test_probabilities = calibrator.predict(test_preds)\n",
    "\n",
    "results = pd.DataFrame({\n",
    "    'base_id': df['base_item_id'],\n",
    "    'cand_id': df['cand_item_id'],\n",
    "    'probability': np.round(final_probability, 2)\n",
    "})\n",
    "\n",
    "# results.to_csv('submission.csv', index=False, float_format='%.2f')\n",
    "results.to_csv('../submissions/submission.csv', mode='a', header=False, index=False, float_format='%.2f')\n",
    "\n",
    "print(\"Результаты сохранены в submission.csv\")\n",
    "print(f\"Всего пар: {len(results)}\")\n",
    "print(f\"Средняя вероятность: {results['probability'].mean():.4f}\")"
   ]
  }
 ],
 "metadata": {
  "kernelspec": {
   "display_name": "base",
   "language": "python",
   "name": "python3"
  },
  "language_info": {
   "codemirror_mode": {
    "name": "ipython",
    "version": 3
   },
   "file_extension": ".py",
   "mimetype": "text/x-python",
   "name": "python",
   "nbconvert_exporter": "python",
   "pygments_lexer": "ipython3",
   "version": "3.12.7"
  }
 },
 "nbformat": 4,
 "nbformat_minor": 5
}
