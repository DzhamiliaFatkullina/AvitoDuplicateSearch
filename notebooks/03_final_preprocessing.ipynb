{
 "cells": [
  {
   "cell_type": "code",
   "execution_count": null,
   "id": "853d72c0",
   "metadata": {},
   "outputs": [],
   "source": [
    "%pip install fastparquet"
   ]
  },
  {
   "cell_type": "code",
   "execution_count": 30,
   "id": "7a4299b9",
   "metadata": {},
   "outputs": [],
   "source": [
    "import pandas as pd\n",
    "from sklearn.preprocessing import StandardScaler\n",
    "from sklearn.calibration import LabelEncoder\n",
    "from sklearn.model_selection import train_test_split"
   ]
  },
  {
   "cell_type": "code",
   "execution_count": 31,
   "id": "42d975a0",
   "metadata": {},
   "outputs": [],
   "source": [
    "df = pd.read_parquet(\"../data/train_final_dataset.snappy.parquet\", engine=\"fastparquet\")"
   ]
  },
  {
   "cell_type": "code",
   "execution_count": 32,
   "id": "3b2ef83b",
   "metadata": {},
   "outputs": [],
   "source": [
    "df['image_similarity'] = df['image_similarity'].fillna(0)\n",
    "\n",
    "df[['is_same_location', 'is_same_region']] = df[['is_same_location', 'is_same_region']].astype(int)"
   ]
  },
  {
   "cell_type": "code",
   "execution_count": 33,
   "id": "d6fc373d",
   "metadata": {},
   "outputs": [],
   "source": [
    "# Совпадение категорий и параметров\n",
    "df['same_category'] = (df['base_category_name'] == df['cand_category_name']).astype(int)\n",
    "df['same_subcategory'] = (df['base_subcategory_name'] == df['cand_subcategory_name']).astype(int)"
   ]
  },
  {
   "cell_type": "code",
   "execution_count": 34,
   "id": "ce1f62ef",
   "metadata": {},
   "outputs": [],
   "source": [
    "df['price_diff_pct'] = 2 * abs(df['base_price'] - df['cand_price']) / (df['base_price'] + df['cand_price'] + 1e-6)\n",
    "\n",
    "df['images_diff'] = df['base_count_images'] - df['cand_count_images']"
   ]
  },
  {
   "cell_type": "code",
   "execution_count": 35,
   "id": "63d6c0d9",
   "metadata": {},
   "outputs": [],
   "source": [
    "numeric_cols = [\n",
    "    'base_price', \n",
    "    'cand_price',\n",
    "    'price_diff_pct',\n",
    "    'base_count_images',\n",
    "    'cand_count_images',\n",
    "    'images_diff',\n",
    "    'common_params_count',\n",
    "    'same_values_count'\n",
    "]\n",
    "\n",
    "scaler = StandardScaler()\n",
    "df[numeric_cols] = scaler.fit_transform(df[numeric_cols])"
   ]
  },
  {
   "cell_type": "code",
   "execution_count": 36,
   "id": "5ae0a2c2",
   "metadata": {},
   "outputs": [],
   "source": [
    "df['base_param1'] = df['base_param1'].replace('', 'Не указано')\n",
    "df['cand_param1'] = df['cand_param1'].replace('', 'Не указано')\n",
    "df['same_param1'] = (df['base_param1'] == df['cand_param1']).astype(int)\n",
    "le_param1 = LabelEncoder()\n",
    "all_values = pd.concat([df['base_param1'], df['cand_param1']]).unique()\n",
    "le_param1.fit(all_values)\n",
    "\n",
    "df['base_param1_encoded'] = le_param1.transform(df['base_param1'])\n",
    "df['cand_param1_encoded'] = le_param1.transform(df['cand_param1'])\n"
   ]
  },
  {
   "cell_type": "code",
   "execution_count": 37,
   "id": "19490e27",
   "metadata": {},
   "outputs": [],
   "source": [
    "df['base_param2'] = df['base_param2'].replace('', 'Не указано')\n",
    "df['cand_param2'] = df['cand_param2'].replace('', 'Не указано')\n",
    "df['same_param2'] = (df['base_param2'] == df['cand_param2']).astype(int)\n",
    "le_param2 = LabelEncoder()\n",
    "all_values = pd.concat([df['base_param2'], df['cand_param2']]).unique()\n",
    "le_param2.fit(all_values)\n",
    "\n",
    "df['base_param2_encoded'] = le_param2.transform(df['base_param2'])\n",
    "df['cand_param2_encoded'] = le_param2.transform(df['cand_param2'])"
   ]
  },
  {
   "cell_type": "code",
   "execution_count": 39,
   "id": "ea003722",
   "metadata": {},
   "outputs": [
    {
     "name": "stdout",
     "output_type": "stream",
     "text": [
      "<class 'pandas.core.frame.DataFrame'>\n",
      "Index: 500000 entries, 0 to 499999\n",
      "Data columns (total 23 columns):\n",
      " #   Column                  Non-Null Count   Dtype  \n",
      "---  ------                  --------------   -----  \n",
      " 0   base_price              500000 non-null  float64\n",
      " 1   cand_price              500000 non-null  float64\n",
      " 2   base_count_images       500000 non-null  float64\n",
      " 3   cand_count_images       500000 non-null  float64\n",
      " 4   is_same_location        500000 non-null  int32  \n",
      " 5   is_same_region          500000 non-null  int32  \n",
      " 6   is_double               500000 non-null  int64  \n",
      " 7   common_params_count     500000 non-null  float64\n",
      " 8   same_values_count       500000 non-null  float64\n",
      " 9   image_similarity        500000 non-null  float64\n",
      " 10  basic_image_similarity  500000 non-null  float64\n",
      " 11  title_similarity        500000 non-null  float64\n",
      " 12  description_similarity  500000 non-null  float64\n",
      " 13  same_category           500000 non-null  int32  \n",
      " 14  same_subcategory        500000 non-null  int32  \n",
      " 15  price_diff_pct          500000 non-null  float64\n",
      " 16  images_diff             500000 non-null  float64\n",
      " 17  same_param1             500000 non-null  int32  \n",
      " 18  base_param1_encoded     500000 non-null  int32  \n",
      " 19  cand_param1_encoded     500000 non-null  int32  \n",
      " 20  same_param2             500000 non-null  int32  \n",
      " 21  base_param2_encoded     500000 non-null  int32  \n",
      " 22  cand_param2_encoded     500000 non-null  int32  \n",
      "dtypes: float64(12), int32(10), int64(1)\n",
      "memory usage: 72.5 MB\n",
      "None\n"
     ]
    }
   ],
   "source": [
    "columns_to_drop = [\n",
    "    'base_item_id', 'cand_item_id', 'group_id', 'action_date',\n",
    "    'base_title', 'cand_title', 'base_description', 'cand_description',\n",
    "    'base_json_params', 'cand_json_params',\n",
    "    'base_title_image', 'cand_title_image',\n",
    "    'base_category_name', 'cand_category_name',\n",
    "    'base_subcategory_name', 'cand_subcategory_name',\n",
    "    'base_param1', 'cand_param1',\n",
    "    'base_param2', 'cand_param2',\n",
    "]\n",
    "\n",
    "df = df.drop(columns=columns_to_drop)\n",
    "print(df.info())"
   ]
  },
  {
   "cell_type": "code",
   "execution_count": null,
   "id": "efaba2c2",
   "metadata": {},
   "outputs": [],
   "source": [
    "features = [\n",
    "    'base_price', 'cand_price', 'price_diff_pct',\n",
    "    'base_count_images', 'cand_count_images', 'images_diff',\n",
    "    \n",
    "    'title_similarity', 'description_similarity',\n",
    "    'image_similarity', 'basic_image_similarity',\n",
    "    \n",
    "    'same_category', 'same_subcategory',\n",
    "    'common_params_count', 'same_values_count',\n",
    "    \n",
    "    'is_same_location', 'is_same_region',\n",
    "\n",
    "    'same_param1', 'base_param1_encoded', 'cand_param1_encoded',\n",
    "    'same_param2', 'base_param2_encoded', 'cand_param2_encoded'\n",
    "]\n",
    "\n",
    "#балансировку нужно еще добавить\n",
    "\n",
    "X = df[features]\n",
    "y = df['is_double']\n",
    "\n",
    "X_train, X_test, y_train, y_test = train_test_split(\n",
    "    X, y,\n",
    "    test_size=0.2,\n",
    "    stratify=y,\n",
    "    random_state=42\n",
    ")"
   ]
  }
 ],
 "metadata": {
  "kernelspec": {
   "display_name": "base",
   "language": "python",
   "name": "python3"
  },
  "language_info": {
   "codemirror_mode": {
    "name": "ipython",
    "version": 3
   },
   "file_extension": ".py",
   "mimetype": "text/x-python",
   "name": "python",
   "nbconvert_exporter": "python",
   "pygments_lexer": "ipython3",
   "version": "3.12.7"
  }
 },
 "nbformat": 4,
 "nbformat_minor": 5
}
