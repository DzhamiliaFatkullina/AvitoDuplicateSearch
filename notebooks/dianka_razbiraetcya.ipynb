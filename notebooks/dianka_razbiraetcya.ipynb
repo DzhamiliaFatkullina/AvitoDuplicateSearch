{
 "cells": [
  {
   "cell_type": "code",
   "execution_count": null,
   "id": "3194ad69",
   "metadata": {},
   "outputs": [],
   "source": [
    "import pandas as pd\n",
    "import json"
   ]
  },
  {
   "cell_type": "code",
   "execution_count": 3,
   "id": "a8d9d21d",
   "metadata": {},
   "outputs": [],
   "source": [
    "df = pd.read_parquet(\"../data/train_part_0001.snappy.parquet\", engine=\"pyarrow\")"
   ]
  },
  {
   "cell_type": "code",
   "execution_count": 11,
   "id": "4595496e",
   "metadata": {},
   "outputs": [
    {
     "name": "stdout",
     "output_type": "stream",
     "text": [
      "Размер: (500000, 27)\n",
      "\n",
      "<class 'pandas.core.frame.DataFrame'>\n",
      "Index: 500000 entries, 0 to 499999\n",
      "Data columns (total 27 columns):\n",
      " #   Column                 Non-Null Count   Dtype  \n",
      "---  ------                 --------------   -----  \n",
      " 0   base_item_id           500000 non-null  object \n",
      " 1   cand_item_id           500000 non-null  object \n",
      " 2   group_id               500000 non-null  int64  \n",
      " 3   action_date            500000 non-null  object \n",
      " 4   base_title             500000 non-null  object \n",
      " 5   cand_title             500000 non-null  object \n",
      " 6   base_description       500000 non-null  object \n",
      " 7   cand_description       500000 non-null  object \n",
      " 8   base_category_name     499997 non-null  object \n",
      " 9   cand_category_name     500000 non-null  object \n",
      " 10  base_subcategory_name  499997 non-null  object \n",
      " 11  cand_subcategory_name  500000 non-null  object \n",
      " 12  base_param1            480372 non-null  object \n",
      " 13  cand_param1            480086 non-null  object \n",
      " 14  base_param2            342334 non-null  object \n",
      " 15  cand_param2            341768 non-null  object \n",
      " 16  base_price             500000 non-null  int64  \n",
      " 17  cand_price             500000 non-null  int64  \n",
      " 18  base_json_params       500000 non-null  object \n",
      " 19  cand_json_params       500000 non-null  object \n",
      " 20  base_count_images      490447 non-null  float64\n",
      " 21  cand_count_images      490649 non-null  float64\n",
      " 22  base_title_image       500000 non-null  object \n",
      " 23  cand_title_image       500000 non-null  object \n",
      " 24  is_same_location       500000 non-null  bool   \n",
      " 25  is_same_region         500000 non-null  bool   \n",
      " 26  is_double              500000 non-null  int64  \n",
      "dtypes: bool(2), float64(2), int64(4), object(19)\n",
      "memory usage: 100.1+ MB\n",
      "None\n"
     ]
    }
   ],
   "source": [
    "print(f\"Размер: {df.shape}\\n\")  \n",
    "\n",
    "print(df.info())"
   ]
  },
  {
   "cell_type": "code",
   "execution_count": 12,
   "id": "4f1c881f",
   "metadata": {},
   "outputs": [
    {
     "name": "stdout",
     "output_type": "stream",
     "text": [
      "is_double\n",
      "0    0.938822\n",
      "1    0.061178\n",
      "Name: proportion, dtype: float64\n"
     ]
    }
   ],
   "source": [
    "print(df[\"is_double\"].value_counts(normalize=True))"
   ]
  },
  {
   "cell_type": "code",
   "execution_count": null,
   "id": "5921ad2c",
   "metadata": {},
   "outputs": [
    {
     "name": "stdout",
     "output_type": "stream",
     "text": [
      "\n",
      "--- base_category_name ---\n",
      "base_category_name\n",
      "Личные вещи                      135662\n",
      "Для дома и дачи                  110919\n",
      "Электроника                       77779\n",
      "Готовый бизнес и оборудование     59149\n",
      "Хобби и отдых                     52036\n",
      "Транспорт                         51862\n",
      "Животные                          12590\n",
      "None                                  3\n",
      "Name: count, dtype: int64\n",
      "\n",
      "--- cand_category_name ---\n",
      "cand_category_name\n",
      "Личные вещи                      135662\n",
      "Для дома и дачи                  110919\n",
      "Электроника                       77782\n",
      "Готовый бизнес и оборудование     59150\n",
      "Хобби и отдых                     52035\n",
      "Транспорт                         51862\n",
      "Животные                          12590\n",
      "Name: count, dtype: int64\n",
      "\n",
      "--- base_subcategory_name ---\n",
      "base_subcategory_name\n",
      "Одежда, обувь, аксессуары      71424\n",
      "Ремонт и строительство         62455\n",
      "Оборудование для бизнеса       58547\n",
      "Запчасти и аксессуары          51862\n",
      "Детская одежда и обувь         34311\n",
      "Мебель и интерьер              31208\n",
      "Телефоны                       25142\n",
      "Коллекционирование             23893\n",
      "Аудио и видео                  22270\n",
      "Спорт и отдых                  11564\n",
      "Часы и украшения               11347\n",
      "Товары для компьютера          10938\n",
      "Книги и журналы                10280\n",
      "Товары для детей и игрушки      9826\n",
      "Красота и здоровье              8754\n",
      "Оргтехника и расходники         8683\n",
      "Бытовая техника                 5490\n",
      "Растения                        5311\n",
      "Посуда и товары для кухни       5248\n",
      "Игры, приставки и программы     4063\n",
      "Name: count, dtype: int64\n",
      "\n",
      "--- cand_subcategory_name ---\n",
      "cand_subcategory_name\n",
      "Одежда, обувь, аксессуары      71432\n",
      "Ремонт и строительство         62455\n",
      "Оборудование для бизнеса       58548\n",
      "Запчасти и аксессуары          51862\n",
      "Детская одежда и обувь         34303\n",
      "Мебель и интерьер              31208\n",
      "Телефоны                       25146\n",
      "Коллекционирование             23893\n",
      "Аудио и видео                  22270\n",
      "Спорт и отдых                  11564\n",
      "Часы и украшения               11347\n",
      "Товары для компьютера          10938\n",
      "Книги и журналы                10280\n",
      "Товары для детей и игрушки      9826\n",
      "Красота и здоровье              8754\n",
      "Оргтехника и расходники         8683\n",
      "Бытовая техника                 5490\n",
      "Растения                        5311\n",
      "Посуда и товары для кухни       5248\n",
      "Игры, приставки и программы     4063\n",
      "Name: count, dtype: int64\n",
      "\n",
      "--- base_param1 ---\n",
      "base_param1\n",
      "Запчасти                             34985\n",
      "Стройматериалы                       33184\n",
      "Женская одежда                       32083\n",
      "Промышленное                         31386\n",
      "Аксессуары                           24290\n",
      "Для девочек                          20101\n",
      "None                                 19628\n",
      "Другое                               18332\n",
      "Для мальчиков                        14210\n",
      "Мобильные телефоны                   14035\n",
      "Мужская обувь                        11976\n",
      "Мужская одежда                       10384\n",
      "Женская обувь                         8994\n",
      "Инструменты                           8692\n",
      "Книги                                 7847\n",
      "Сантехника, водоснабжение и сауна     7137\n",
      "Игрушки                               6337\n",
      "Шкафы, комоды и стеллажи              6329\n",
      "Комплектующие                         6249\n",
      "Кровати, диваны и кресла              6180\n",
      "Name: count, dtype: int64\n",
      "\n",
      "--- cand_param1 ---\n",
      "cand_param1\n",
      "Запчасти                             37617\n",
      "Стройматериалы                       33317\n",
      "Женская одежда                       32083\n",
      "Промышленное                         31505\n",
      "Аксессуары                           23815\n",
      "Для девочек                          20096\n",
      "None                                 19914\n",
      "Другое                               18325\n",
      "Для мальчиков                        14207\n",
      "Мобильные телефоны                   13712\n",
      "Мужская обувь                        11976\n",
      "Мужская одежда                       10384\n",
      "Женская обувь                         9002\n",
      "Инструменты                           8497\n",
      "Книги                                 7878\n",
      "Сантехника, водоснабжение и сауна     6954\n",
      "Шкафы, комоды и стеллажи              6425\n",
      "Игрушки                               6337\n",
      "Комплектующие                         6302\n",
      "Кровати, диваны и кресла              6290\n",
      "Name: count, dtype: int64\n",
      "\n",
      "--- base_param2 ---\n",
      "base_param2\n",
      "None                            157666\n",
      "Для автомобилей                  28381\n",
      "Другое                           16088\n",
      "Верхняя одежда                   15405\n",
      "Станки                           12090\n",
      "Кроссовки                        10477\n",
      "Обувь                            10438\n",
      "Платья                            7638\n",
      "Запчасти                          5917\n",
      "Для грузовиков и спецтехники      5834\n",
      "Пиджаки и костюмы                 5420\n",
      "Отделка                           5087\n",
      "Строительство стен                5045\n",
      "Брюки                             4767\n",
      "Картриджи                         4226\n",
      "Легковые шины                     3914\n",
      "Комбинезоны                       3615\n",
      "Кроссовки и кеды                  3515\n",
      "Шкафы и буфеты                    3501\n",
      "Насосы и компрессоры              3448\n",
      "Name: count, dtype: int64\n",
      "\n",
      "--- cand_param2 ---\n",
      "cand_param2\n",
      "None                            158232\n",
      "Для автомобилей                  30867\n",
      "Другое                           15905\n",
      "Верхняя одежда                   14535\n",
      "Обувь                            13156\n",
      "Станки                           12488\n",
      "Кроссовки                        10597\n",
      "Платья                            7701\n",
      "Для грузовиков и спецтехники      5989\n",
      "Запчасти                          5983\n",
      "Отделка                           5197\n",
      "Строительство стен                5131\n",
      "Пиджаки и костюмы                 5109\n",
      "Картриджи                         4544\n",
      "Брюки                             4140\n",
      "Легковые шины                     3824\n",
      "Шкафы и буфеты                    3764\n",
      "Кроссовки и кеды                  3546\n",
      "Климатическое                     3441\n",
      "Наручные или карманные            3412\n",
      "Name: count, dtype: int64\n"
     ]
    }
   ],
   "source": [
    "categorical_columns = [\n",
    "    'base_category_name', 'cand_category_name',\n",
    "    'base_subcategory_name', 'cand_subcategory_name',\n",
    "    'base_param1', 'cand_param1',\n",
    "    'base_param2', 'cand_param2'\n",
    "]\n",
    "\n",
    "for col in categorical_columns:\n",
    "    print(f\"\\n--- {col} ---\")\n",
    "    print(df[col].value_counts(dropna=False).head(20))  # Топ-20 значений (+ пропуски)"
   ]
  },
  {
   "cell_type": "code",
   "execution_count": null,
   "id": "2f718f9b",
   "metadata": {},
   "outputs": [
    {
     "name": "stdout",
     "output_type": "stream",
     "text": [
      "\n",
      "--- Примеры из base_title ---\n",
      "['Зимние ботинки ecco' 'Зимние ботинки ecco' 'Зимние ботинки ecco'\n",
      " 'Куpткa зимняя и ветpовкa' 'Куpткa зимняя и ветpовкa']\n",
      "\n",
      "--- Примеры из cand_title ---\n",
      "['Кигуpуммии мышкa inextenso' 'Штaны для девочки zara'\n",
      " 'Рубaшкa acoola 152' 'Зимние ботинки ecco' 'Плaщ детcкий next']\n",
      "\n",
      "--- Примеры из base_description ---\n",
      "['ботинки экко,униcекc,зимние\\nноcилиcь один cезон,cтaли мaлы'\n",
      " 'ботинки экко,униcекc,зимние\\nноcилиcь один cезон,cтaли мaлы'\n",
      " 'ботинки экко,униcекc,зимние\\nноcилиcь один cезон,cтaли мaлы'\n",
      " 'зимнюю куpтку ноcили меньше cезонa,почти новaя\\nкуpткa зимa kerry-5300\\n\\nветpовкa didriksons-1200'\n",
      " 'зимнюю куpтку ноcили меньше cезонa,почти новaя\\nкуpткa зимa kerry-5300\\n\\nветpовкa didriksons-1200']\n",
      "\n",
      "--- Примеры из cand_description ---\n",
      "['.' 'штaны новые,ноcили пapу paз' 'новaя,не ноcили'\n",
      " 'ботинки экко,униcекc,зимние\\nноcилиcь один cезон,cтaли мaлы'\n",
      " '.пеpед отпpaвкой отпapю)']\n"
     ]
    }
   ],
   "source": [
    "text_columns = ['base_title', 'cand_title', 'base_description', 'cand_description']\n",
    "\n",
    "for col in text_columns:\n",
    "    print(f\"\\n--- Примеры из {col} ---\")\n",
    "    print(df[col].head(5).values) "
   ]
  },
  {
   "cell_type": "code",
   "execution_count": null,
   "id": "1c813b67",
   "metadata": {},
   "outputs": [
    {
     "name": "stdout",
     "output_type": "stream",
     "text": [
      "\n",
      "--- Пример base_json_params ---\n",
      "{'178': 758, '179': 768, '2756': 19916, '2827': 20032, '110064': [1659], '112674': 754147, '115582': 1509575, '115634': 1689223, '159501': 0, '166222': 3268045}\n"
     ]
    }
   ],
   "source": [
    "sample_json = df['base_json_params'].iloc[0]\n",
    "\n",
    "try:\n",
    "    parsed_json = json.loads(sample_json)\n",
    "    print(\"\\n--- Пример base_json_params ---\")\n",
    "    print(parsed_json)\n",
    "except:\n",
    "    print(\"Не удалось распарсить JSON. Возможно, данные в другом формате.\")"
   ]
  },
  {
   "cell_type": "markdown",
   "id": "e12df39b",
   "metadata": {},
   "source": [
    "Числовые ключи (178, 179, 2756 и т. д.), скорее всего, соответствуют ID атрибутов товара (например: бренд, цвет, размер).\n",
    "\n",
    "Можно проверить, сколько параметров совпадает у пар объявлений."
   ]
  },
  {
   "cell_type": "code",
   "execution_count": 22,
   "id": "01c61ec3",
   "metadata": {},
   "outputs": [
    {
     "name": "stdout",
     "output_type": "stream",
     "text": [
      "\n",
      "Среднее количество общих параметров:\n",
      "7.408894\n",
      "\n",
      "Среднее количество совпадающих значений:\n",
      "5.775166\n"
     ]
    }
   ],
   "source": [
    "def compare_json_params(row):\n",
    "    try:\n",
    "        base_params = json.loads(row['base_json_params'])\n",
    "        cand_params = json.loads(row['cand_json_params'])\n",
    "        \n",
    "        # Совпадающие ключи и значения\n",
    "        common_keys = set(base_params.keys()) & set(cand_params.keys())\n",
    "        same_values = sum(1 for k in common_keys if base_params[k] == cand_params[k])\n",
    "        \n",
    "        return {\n",
    "            'common_params_count': len(common_keys),\n",
    "            'same_values_count': same_values\n",
    "        }\n",
    "    except:\n",
    "        return {'common_params_count': 0, 'same_values_count': 0}\n",
    "\n",
    "comparison_results = df.apply(compare_json_params, axis=1, result_type='expand')\n",
    "df = pd.concat([df, comparison_results], axis=1)\n",
    "\n",
    "print(\"\\nСреднее количество общих параметров:\")\n",
    "print(df['common_params_count'].mean())\n",
    "\n",
    "print(\"\\nСреднее количество совпадающих значений:\")\n",
    "print(df['same_values_count'].mean())"
   ]
  },
  {
   "cell_type": "code",
   "execution_count": 16,
   "id": "8e0e8f7b",
   "metadata": {},
   "outputs": [
    {
     "name": "stdout",
     "output_type": "stream",
     "text": [
      "\n",
      "--- Пример base_title_image ---\n",
      "40c72f08e0bb10b55e0605781481df2b5557b094aee695e471f7b6b2855a6cb2\n",
      "\n",
      "--- Пример cand_title_image ---\n",
      "ebc7537d69a1c8c1a6e7ea3c5b27ab4d4a360e6032d15877b33fb648c57dbf54\n"
     ]
    }
   ],
   "source": [
    "print(\"\\n--- Пример base_title_image ---\")\n",
    "print(df['base_title_image'].iloc[0])\n",
    "\n",
    "print(\"\\n--- Пример cand_title_image ---\")\n",
    "print(df['cand_title_image'].iloc[0])"
   ]
  },
  {
   "cell_type": "markdown",
   "id": "9262a1f2",
   "metadata": {},
   "source": [
    "Похоже, что поля `base_title_image` и `cand_title_image` содержат хеш-суммы изображений (скорее всего, SHA-256). Это означает, что:\n",
    "- Изображения уже предобработаны - хранятся не сами пиксели, а их хеши\n",
    "- Сравнение упрощается - можно искать точные совпадения хешей\n",
    "- Разные хеши ≠ разные изображения (но с высокой вероятностью)"
   ]
  },
  {
   "cell_type": "code",
   "execution_count": 26,
   "id": "e750204c",
   "metadata": {},
   "outputs": [
    {
     "name": "stdout",
     "output_type": "stream",
     "text": [
      "Точно одинаковые изображения: 1.34%\n",
      "Уникальных base изображений: 191562\n",
      "Уникальных cand изображений: 469367\n"
     ]
    }
   ],
   "source": [
    "# Процент пар с одинаковыми изображениями\n",
    "same_images = (df['base_title_image'] == df['cand_title_image']).mean()\n",
    "print(f\"Точно одинаковые изображения: {same_images*100:.2f}%\")\n",
    "\n",
    "print(f\"Уникальных base изображений: {df['base_title_image'].nunique()}\")\n",
    "print(f\"Уникальных cand изображений: {df['cand_title_image'].nunique()}\")"
   ]
  },
  {
   "cell_type": "code",
   "execution_count": 18,
   "id": "bbdbc588",
   "metadata": {},
   "outputs": [
    {
     "name": "stdout",
     "output_type": "stream",
     "text": [
      "\n",
      "--- Распределение is_same_location ---\n",
      "is_same_location\n",
      "True     489824\n",
      "False     10176\n",
      "Name: count, dtype: int64\n",
      "\n",
      "--- Распределение is_same_region ---\n",
      "is_same_region\n",
      "True     492808\n",
      "False      7192\n",
      "Name: count, dtype: int64\n"
     ]
    }
   ],
   "source": [
    "print(\"\\n--- Распределение is_same_location ---\")\n",
    "print(df['is_same_location'].value_counts())\n",
    "\n",
    "print(\"\\n--- Распределение is_same_region ---\")\n",
    "print(df['is_same_region'].value_counts())"
   ]
  },
  {
   "cell_type": "code",
   "execution_count": 21,
   "id": "e1bbfe89",
   "metadata": {},
   "outputs": [
    {
     "name": "stdout",
     "output_type": "stream",
     "text": [
      "Есть ли дубликаты в base_item_id?\n",
      "True\n",
      "Есть ли дубликаты в cand_item_id?\n",
      "True\n"
     ]
    }
   ],
   "source": [
    "print(\"Есть ли дубликаты в base_item_id?\")\n",
    "print(df['base_item_id'].duplicated().any())\n",
    "\n",
    "print(\"Есть ли дубликаты в cand_item_id?\")\n",
    "print(df['cand_item_id'].duplicated().any())"
   ]
  }
 ],
 "metadata": {
  "kernelspec": {
   "display_name": "base",
   "language": "python",
   "name": "python3"
  },
  "language_info": {
   "codemirror_mode": {
    "name": "ipython",
    "version": 3
   },
   "file_extension": ".py",
   "mimetype": "text/x-python",
   "name": "python",
   "nbconvert_exporter": "python",
   "pygments_lexer": "ipython3",
   "version": "3.12.7"
  }
 },
 "nbformat": 4,
 "nbformat_minor": 5
}
